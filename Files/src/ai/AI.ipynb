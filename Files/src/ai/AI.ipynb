{
	"nbformat": 4,
	"nbformat_minor": 0,
	"metadata": {
		"colab": {
			"name": "Axiom AI Demo",
			"provenance": [],
			"gpuType": "T4"
		},
		"kernelspec": {
			"name": "python3",
			"display_name": "Python 3"
		},
		"language_info": {
			"name": "python"
		}
	},
	"cells": [
		{
			"cell_type": "markdown",
			"source": [
				"# ***Axiom AI Demo***"
			],
			"metadata": {
				"id": "b8DQTGLPCCbS"
			}
		},
		{
			"cell_type": "code",
			"source": [
				"#@title <font class=\"markdown-google-sans\">Install</font>\n",
				"import os\n",
				"os.chdir(\"/content/\")\n",
				"!git clone https://github.com/kubinka0505/axiom\n",
				"os.chdir(\"axiom/Files\")\n",
				"!python setup.py install"
			],
			"metadata": {
				"cellView": "form",
				"id": "WBeKprfgAevl"
			},
			"execution_count": null,
			"outputs": []
		},
		{
			"cell_type": "code",
			"execution_count": null,
			"metadata": {
				"id": "kr2FQNKNJMEh",
				"cellView": "form"
			},
			"outputs": [],
			"source": [
				"#@title <font class=\"markdown-google-sans\">Mount drive</font>\n",
				"from google.colab import drive\n",
				"drive.mount(\"/content/drive\")"
			]
		},
		{
			"cell_type": "markdown",
			"source": [
				"# <font class=\"markdown-google-sans\">Training</font>"
			],
			"metadata": {
				"id": "5kDX9SEf6Niv"
			}
		},
		{
			"cell_type": "code",
			"source": [
				"#@title ## <font class=\"markdown-google-sans\">Preprocess dataset</font>\n",
				"#@markdown > Optional.\n",
				"#@markdown After preprocessing is finished, path for train/infer is adjusted accordingly.\n",
				"\n",
				"frequency_step = 100 #@param {type: \"number\"}\n",
				"dataset_directory = \"/content/drive/MyDrive/axiom/dataset/1\" #@param {type: \"string\"}\n",
				"output_directory = \"/content/axiom_datasets/1_outs\" #@param {type: \"string\"}\n",
				"extension = \"WAV\" #@param [\"WAV\", \"FLAC\"]\n",
				"overwrite = False #@param {type: \"boolean\"}\n",
				"\n",
				"#@markdown &nbsp;\n",
				"\n",
				"show_help = False #@param {type: \"boolean\"}\n",
				"\n",
				"help_str = \"-h\" if show_help else \"\"\n",
				"overwrite_str = \"-f\" if overwrite else \"\"\n",
				"\n",
				"os.chdir(\"/content/axiom/Files/src/ai\")\n",
				"!python prep.py \\\n",
				"\t-i {dataset_directory} \\\n",
				"\t-o {output_directory} \\\n",
				"\t{overwrite_str} \\\n",
				"\t-fmt {extension} \\\n",
				"\t-k {frequency_step} \\\n",
				"\t{help_str}\n",
				"\n",
				"dataset_directory = output_directory"
			],
			"metadata": {
				"id": "_Mv1jho9JsTr",
				"cellView": "form"
			},
			"execution_count": null,
			"outputs": []
		},
		{
			"cell_type": "code",
			"source": [
				"#@title ## <font class=\"markdown-google-sans\">Begin training</font>\n",
				"%load_ext tensorboard\n",
				"%tensorboard --logdir /content/logs\n",
				"\n",
				"epochs = 100 #@param {type: \"number\"}\n",
				"\n",
				"#@markdown &nbsp;\n",
				"\n",
				"#@markdown #### <font class=\"markdown-google-sans\">Dataset directory</font>\n",
				"dataset_directory_from_preprocess = True #@param {type: \"boolean\"}\n",
				"dataset_directory = \"/content/drive/MyDrive/axiom/dataset/1\" #@param {type: \"string\"}\n",
				"model_destination = \"/content/drive/MyDrive/axiom/models\" #@param {type: \"string\"}\n",
				"\n",
				"#@markdown &nbsp;\n",
				"\n",
				"#@markdown #### <font class=\"markdown-google-sans\">Training settings</font>\n",
				"save_each_epoch = 1 #@param {type: \"slider\", min: 1, max: 25, step: 1}\n",
				"eval_each_epoch = 1 #@param {type: \"slider\", min: 1, max: 10, step: 1}\n",
				"model_architecture = \"v2\" #@param [\"v1\", \"v2\"]\n",
				"\n",
				"#-=-=-=-#\n",
				"\n",
				"if dataset_directory_from_preprocess:\n",
				"\tdataset_directory = output_directory\n",
				"\n",
				"model_architecture = \"\".join(x for x in model_architecture if x.isdigit()\n",
				"\n",
				"!python model.py train \\\n",
				"\t-i {dataset_directory} \\\n",
				"\t-e {epochs} \\\n",
				"\t-see {save_each_epoch} \\n",
				"\t-eee {eval_each_epoch} \\n",
				"\t-a {model_architecture} \\\n",
				"\t-o /content/ \\\n",
				"\t-logs /content/logs"
			],
			"metadata": {
				"id": "OQWp5LCbKAy7",
				"cellView": "form"
			},
			"execution_count": null,
			"outputs": []
		},
		{
			"cell_type": "markdown",
			"source": [
				"# <font class=\"markdown-google-sans\">Inference</font>"
			],
			"metadata": {
				"id": "3bhkDHqTCftc"
			}
		},
		{
			"cell_type": "code",
			"source": [
				"#@title <font class=\"markdown-google-sans\">Begin inference</font>\n",
				"#@markdown If any of parameters below are directories, fetches latest applicable files from them.\n",
				"\n",
				"#@markdown If any of parameters below are empty, raises `files.upload()`\n",
				"from google.colab import files\n",
				"\n",
				"input_file = \"\" #@param {type: \"string\"}\n",
				"model_path = \"/content/drive/MyDrive/axiom/models\" #@param {type: \"string\"}\n",
				"\n",
				"os.chdir(\"/content/\")\n",
				"if not input_file:\n",
				"\tinput_file = files.upload()\n",
				"\tinput_file = list(input_file.keys())[0]\n",
				"\n",
				"if not model_path:\n",
				"\tmodel_path = files.upload()\n",
				"\tmodel_path = list(model_path.keys())[0]\n",
				"\n",
				"os.chdir(\"/content/axiom/src\")\n",
				"!python model.py infer \\\n",
				"\t-i {input_file}\n",
				"\t-m {model_file}"
			],
			"metadata": {
				"id": "P6rVD5M-RaWH",
				"cellView": "form"
			},
			"execution_count": null,
			"outputs": []
		}
	]
}