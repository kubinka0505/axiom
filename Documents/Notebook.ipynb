{
	"nbformat": 4,
	"nbformat_minor": 0,
	"metadata": {
		"colab": {
			"name": "Axiom Demo",
			"provenance": []
		},
		"kernelspec": {
			"name": "python3",
			"display_name": "Python 3"
		},
		"language_info": {
			"name": "python"
		}
	},
	"cells": [
		{
			"cell_type": "markdown",
			"source": [
				"# ***Axiom Demo***"
			],
			"metadata": {
				"id": "Di_cx_Q9H_92"
			}
		},
		{
			"cell_type": "code",
			"execution_count": null,
			"metadata": {
				"cellView": "form",
				"id": "DP5vcXufXRD7"
			},
			"outputs": [],
			"source": [
				"#@title ## <font class=\"markdown-google-sans\">Install</font>\n",
				"!python -m pip install \"git+https://github.com/kubinka0505/axiom#egg=axiom&subdirectory=Files\" -U --use-deprecated=legacy-resolver"
			]
		},
		{
			"cell_type": "code",
			"source": [
				"#@title ## <font class=\"markdown-google-sans\">Upload files</font>\n",
				"import os\n",
				"from axiom import Axiom\n",
				"from google.colab import files\n",
				"\n",
				"DIRECTORY_MAIN = \"/content/\"\n",
				"os.chdir(DIRECTORY_MAIN)\n",
				"\n",
				"files = list(files.upload().keys())\n",
				"files = [os.path.join(DIRECTORY_MAIN, file) for file in files]\n",
				"\n",
				"axiom_obj = Axiom(files)\n",
				"\n",
				"print()\n",
				"print(f\"Uploaded {len(axiom_obj.files)} valid files.\")"
			],
			"metadata": {
				"cellView": "form",
				"id": "CC4l2blnXjQb"
			},
			"execution_count": null,
			"outputs": []
		},
		{
			"cell_type": "code",
			"source": [
				"#@title ## <font class=\"markdown-google-sans\">Analyze</font>\n",
				"from axiom import Axiom\n",
				"\n",
				"# Parameters\n",
				"Start_Time = \"0\" # @param {type: \"string\"}\n",
				"Duration = \"20s\" # @param {type: \"string\"}\n",
				"\n",
				"#@markdown &nbsp;\n",
				"\n",
				"Model_Path = \"\"  # @param {type: \"string\"}\n",
				"Frequency_Step = -1  # @param {type: \"slider\", min: -1, max: 1000, step: 1}\n",
				"Process = \"All\"  # @param [\"Sample rate\", \"Bit depth\", \"Channels\", \"Peak\", \"All\"]\n",
				"\n",
				"# Normalize input\n",
				"lower = Process.lower()\n",
				"\n",
				"# Get result based on selected process\n",
				"if lower.startswith(\"all\"):\n",
				"\tresult = axiom_obj.estimate(\n",
				"\t\tstart = Start_Time,\n",
				"\t\tduration = Duration,\n",
				"\t\tmodel = Model_Path,\n",
				"\t\tfreq_step = Frequency_Step,\n",
				"\t\tshow_graph = True\n",
				"\t)\n",
				"elif lower.startswith(\"sample\"):\n",
				"\tresult = axiom_obj.samplerate(\n",
				"\t\tstart = Start_Time,\n",
				"\t\tduration = Duration,\n",
				"\t\tmodel = Model_Path,\n",
				"\t\tfreq_step = Frequency_Step,\n",
				"\t\tshow_graph = True\n",
				"\t)\n",
				"elif lower.startswith(\"bit depth\"):\n",
				"\tresult = axiom_obj.bit_depth(\n",
				"\t\tstart = Start_Time,\n",
				"\t\tduration = Duration\n",
				"\t)\n",
				"elif lower.startswith(\"channels\"):\n",
				"\tresult = axiom_obj.channels(\n",
				"\t\tstart = Start_Time,\n",
				"\t\tduration = Duration\n",
				"\t)\n",
				"elif lower.startswith(\"bitrate\"):\n",
				"\tresult = axiom_obj.bitrate(\n",
				"\t\tstart = Start_Time,\n",
				"\t\tduration = Duration\n",
				"\t)\n",
				"else:\n",
				"\tresult = {}\n",
				"\n",
				"# Display results\n",
				"items = list(result.items())\n",
				"\n",
				"for i, (filename, attributes) in enumerate(items):\n",
				"\tprint(filename)\n",
				"\n",
				"\tfor key, value in attributes.items():\n",
				"\t\tif hasattr(value, \"dtype\") and \"float\" in str(value.dtype):\n",
				"\t\t\tformatted_value = f\"{value.dtype.name}({value})\"\n",
				"\t\telse:\n",
				"\t\t\tformatted_value = str(value)\n",
				"\t\tformatted_value = formatted_value.replace(\"nan\", \"NaN\").replace(\"inf\", \"Infinity\")\n",
				"\n",
				"\t\tprint(\" \" * 4 + key.capitalize().ljust(16), formatted_value)\n",
				"\n",
				"\tif i < len(items) - 1:\n",
				"\t\tprint()"
			],
			"metadata": {
				"id": "ZKy8su8SXprH",
				"cellView": "form"
			},
			"execution_count": null,
			"outputs": []
		}
	]
}